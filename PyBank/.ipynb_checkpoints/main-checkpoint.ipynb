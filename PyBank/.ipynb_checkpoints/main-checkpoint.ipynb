{
 "cells": [
  {
   "cell_type": "code",
   "execution_count": 81,
   "id": "0e34a20f-09c9-486a-99e9-eede90466ccc",
   "metadata": {},
   "outputs": [
    {
     "name": "stdout",
     "output_type": "stream",
     "text": [
      "<class '_io.TextIOWrapper'>\n",
      "Financial Analysis\n",
      "-----------------------------\n",
      "Total Months: 86\n",
      "Total: $38382578\n",
      "Average Change: $-2315.12\n",
      "Greatest Increase in Profits: Feb-2012 ($1926159)\n",
      "Greatest Decrease in Profits: Sep-2013 ($-2196167)\n"
     ]
    }
   ],
   "source": [
    "#import pathlib and csv libraries\n",
    "from pathlib import Path\n",
    "import csv\n",
    "import pandas as pd\n",
    "\n",
    "#set file path using 'Path\" \n",
    "csvpath = Path(\"./budget_data.csv\")\n",
    "sales_data = pd.read_csv(csvpath)\n",
    "\n",
    "#open csv file, and read using 'r', we can skip the header as it's not needed in this scenario\n",
    "months = []\n",
    "lin_num = 0\n",
    "with open (csvpath, 'r') as csvfile:\n",
    "    print(type(csvfile))\n",
    "    csvreader = csv.reader(csvfile, delimiter=',')\n",
    "    header = next(csvreader)\n",
    "\n",
    "#initialize all variables neede for the data that will be appended in the end\n",
    "    total_months = 0\n",
    "    net_total = 0\n",
    "    prev_profit_loss = 0\n",
    "    changes = []\n",
    "    greatest_increase = {\"amount\": 0}\n",
    "    greatest_decrease = {\"amount\": 0}\n",
    "\n",
    "\n",
    "#loop through the csv file add the total months, continue to update total months as they are added on.\n",
    "    for row in csvreader:\n",
    "        total_months += 1\n",
    "        net_total += int(row[1])\n",
    "\n",
    "        # Find the difference in profit/loss from month to month\n",
    "        if prev_profit_loss != 0:\n",
    "            change = int(row[1]) - prev_profit_loss\n",
    "            changes.append(change)\n",
    "\n",
    "            # write an if scenario to check for the greates decreases and increases throughout the data\n",
    "            if change > greatest_increase[\"amount\"]:\n",
    "                greatest_increase[\"date\"] = row[0]\n",
    "                greatest_increase[\"amount\"] = change\n",
    "            elif change < greatest_decrease[\"amount\"]:\n",
    "                greatest_decrease[\"date\"] = row[0]\n",
    "                greatest_decrease[\"amount\"] = change\n",
    "        \n",
    "        prev_profit_loss = int(row[1])\n",
    "    \n",
    "    # Find the average change of profit/loss\n",
    "    avg_change = sum(changes) / len(changes)\n",
    "\n",
    "    # print out the results usinf=g an \"f\" string to read the data in a comprehendable manner\n",
    "    print(\"Financial Analysis\")\n",
    "    print(\"-----------------------------\")\n",
    "    print(f\"Total Months: {total_months}\")\n",
    "    print(f\"Total: ${net_total}\")\n",
    "    print(f\"Average Change: ${avg_change:.2f}\")\n",
    "    print(f\"Greatest Increase in Profits: {greatest_increase['date']} (${greatest_increase['amount']})\")\n",
    "    print(f\"Greatest Decrease in Profits: {greatest_decrease['date']} (${greatest_decrease['amount']})\")\n",
    "\n"
   ]
  },
  {
   "cell_type": "code",
   "execution_count": null,
   "id": "e174aacb-4188-401c-ac8a-ad7e54331d98",
   "metadata": {},
   "outputs": [],
   "source": []
  }
 ],
 "metadata": {
  "kernelspec": {
   "display_name": "Python 3 (ipykernel)",
   "language": "python",
   "name": "python3"
  },
  "language_info": {
   "codemirror_mode": {
    "name": "ipython",
    "version": 3
   },
   "file_extension": ".py",
   "mimetype": "text/x-python",
   "name": "python",
   "nbconvert_exporter": "python",
   "pygments_lexer": "ipython3",
   "version": "3.11.5"
  }
 },
 "nbformat": 4,
 "nbformat_minor": 5
}
